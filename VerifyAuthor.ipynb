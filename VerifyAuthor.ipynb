{
 "cells": [
  {
   "cell_type": "code",
   "execution_count": 14,
   "metadata": {
    "collapsed": true
   },
   "outputs": [],
   "source": [
    "from collections import Counter\n",
    "\n",
    "import numpy as np\n",
    "import pandas as pd\n",
    "import Parser\n",
    "import regex as re\n",
    "import string\n",
    "\n",
    "def clean_text_and_reverse_order(text: str):\n",
    "    punctuations_regex = \"(!|\\\"|#|$|%|&|\\(|\\)|\\*|\\+|,|-|\\.|\\/|:|;|<|=|>|\\?|@|\\[|\\]|\\^|_|`|{|}|~|\\t|\\n|&nbsp;)+\"\n",
    "    # seperated_punctuations = re.sub(punctuations_regex, ' ', text)\n",
    "\n",
    "    seperated_punctuations = text\n",
    "    print(\"text is: \", text)\n",
    "    for punct in string.punctuation:\n",
    "        seperated_punctuations = seperated_punctuations.replace(punct, ' ' + punct + ' ')\n",
    "\n",
    "    print(\"after seperating punctuations the text is: \")\n",
    "    print(seperated_punctuations)\n",
    "    splitted = seperated_punctuations.split()\n",
    "    print(splitted)\n",
    "    splitted.reverse()\n",
    "    cleaned_text = \" \".join(splitted)\n",
    "    print(\"CLeaned text is: \")\n",
    "    print(cleaned_text)\n",
    "    return cleaned_text\n",
    "\n",
    "attempt = pd.read_csv(\"authors/דוד פרישמן/אהבה.csv\")\n",
    "# after_clean = clean_text_and_reverse_order(attempt[\"Text\"][0])"
   ]
  },
  {
   "cell_type": "code",
   "execution_count": 15,
   "outputs": [
    {
     "name": "stdout",
     "output_type": "stream",
     "text": [
      "[0.00079329 0.         0.         0.         0.         0.\n",
      " 0.         0.         0.         0.         0.         0.01450589\n",
      " 0.00407978 0.00906618 0.         0.00192656 0.00033998 0.\n",
      " 0.         0.         0.00011333 0.         0.         0.\n",
      " 0.         0.         0.         0.         0.         0.\n",
      " 0.         0.        ]\n"
     ]
    }
   ],
   "source": [
    "def count_punctuations(text: str):\n",
    "    # Could've used python count, didnt want to because this is more efficient\n",
    "    num_words = len(text)\n",
    "    punctuation_features = np.zeros(len(string.punctuation))\n",
    "    if num_words == 0:\n",
    "        return punctuation_features\n",
    "    for i in range(num_words):\n",
    "        ch = text[i]\n",
    "        if ch in string.punctuation:\n",
    "            punct_i = string.punctuation.find(ch)\n",
    "            punctuation_features[punct_i] += 1\n",
    "    # Normalize count by number of words\n",
    "    punctuation_features = punctuation_features / num_words.__float__()\n",
    "    return punctuation_features\n",
    "\n",
    "print(count_punctuations(attempt[\"Text\"][0]))"
   ],
   "metadata": {
    "collapsed": false,
    "pycharm": {
     "name": "#%%\n"
    }
   }
  },
  {
   "cell_type": "code",
   "execution_count": null,
   "outputs": [],
   "source": [],
   "metadata": {
    "collapsed": false,
    "pycharm": {
     "name": "#%%\n"
    }
   }
  }
 ],
 "metadata": {
  "kernelspec": {
   "display_name": "Python 3",
   "language": "python",
   "name": "python3"
  },
  "language_info": {
   "codemirror_mode": {
    "name": "ipython",
    "version": 2
   },
   "file_extension": ".py",
   "mimetype": "text/x-python",
   "name": "python",
   "nbconvert_exporter": "python",
   "pygments_lexer": "ipython2",
   "version": "2.7.6"
  }
 },
 "nbformat": 4,
 "nbformat_minor": 0
}